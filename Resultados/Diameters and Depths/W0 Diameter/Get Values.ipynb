{
 "cells": [
  {
   "cell_type": "code",
   "execution_count": 109,
   "id": "7e98dd9a-a2e7-486e-92b9-6d6d4e103170",
   "metadata": {},
   "outputs": [],
   "source": [
    "import numpy as np\n",
    "import matplotlib.pyplot as plt"
   ]
  },
  {
   "cell_type": "code",
   "execution_count": 110,
   "id": "a85f934d-f5a1-428b-bc4a-6c644d41572e",
   "metadata": {},
   "outputs": [],
   "source": [
    "D1 = np.load(\"Diameters_1_Pulses_1.0_Fluence.npy\")"
   ]
  },
  {
   "cell_type": "code",
   "execution_count": 111,
   "id": "a4365014-c943-46fd-9a3c-a418d11f2710",
   "metadata": {},
   "outputs": [
    {
     "data": {
      "text/plain": [
       "10.977645521846425"
      ]
     },
     "execution_count": 111,
     "metadata": {},
     "output_type": "execute_result"
    }
   ],
   "source": [
    "(D1[0]*1e6)**2"
   ]
  },
  {
   "cell_type": "code",
   "execution_count": 112,
   "id": "f73a0de9-ff02-40dd-bbb0-a53285a0ca1e",
   "metadata": {},
   "outputs": [
    {
     "data": {
      "text/plain": [
       "20.412977210045"
      ]
     },
     "execution_count": 112,
     "metadata": {},
     "output_type": "execute_result"
    }
   ],
   "source": [
    "D2 = np.load(\"Diameters_1_Pulses_2.125_Fluence.npy\")\n",
    "(D2[0]*1e6)**2"
   ]
  },
  {
   "cell_type": "code",
   "execution_count": 113,
   "id": "31dfb3ec-fefc-4529-8f1b-9bb4206fd1f5",
   "metadata": {},
   "outputs": [
    {
     "data": {
      "text/plain": [
       "26.219335172013352"
      ]
     },
     "execution_count": 113,
     "metadata": {},
     "output_type": "execute_result"
    }
   ],
   "source": [
    "D3 = np.load(\"Diameters_1_Pulses_3.25_Fluence.npy\")\n",
    "(D3[0]*1e6)**2"
   ]
  },
  {
   "cell_type": "code",
   "execution_count": 114,
   "id": "275f4d41-311f-4f5c-8e8d-a6db13382b89",
   "metadata": {},
   "outputs": [
    {
     "data": {
      "text/plain": [
       "29.394687182464807"
      ]
     },
     "execution_count": 114,
     "metadata": {},
     "output_type": "execute_result"
    }
   ],
   "source": [
    "D4 = np.load(\"Diameters_1_Pulses_4.375_Fluence.npy\")\n",
    "(D4[0]*1e6)**2"
   ]
  },
  {
   "cell_type": "code",
   "execution_count": 115,
   "id": "8342b1d2-55dc-4b6f-856f-0dffec05d59f",
   "metadata": {},
   "outputs": [
    {
     "data": {
      "text/plain": [
       "32.75148787922775"
      ]
     },
     "execution_count": 115,
     "metadata": {},
     "output_type": "execute_result"
    }
   ],
   "source": [
    "D5 = np.load(\"Diameters_1_Pulses_5.5_Fluence.npy\")\n",
    "(D5[0]*1e6)**2"
   ]
  },
  {
   "cell_type": "code",
   "execution_count": 116,
   "id": "0b86053b-c1cd-4554-aa91-419fba34b3a8",
   "metadata": {},
   "outputs": [
    {
     "data": {
      "text/plain": [
       "34.497931484976064"
      ]
     },
     "execution_count": 116,
     "metadata": {},
     "output_type": "execute_result"
    }
   ],
   "source": [
    "D6 = np.load(\"Diameters_1_Pulses_6.625_Fluence.npy\")\n",
    "(D6[0]*1e6)**2"
   ]
  },
  {
   "cell_type": "code",
   "execution_count": 117,
   "id": "b24f3548-a8d9-4a0a-9c57-8180c4a468d1",
   "metadata": {},
   "outputs": [
    {
     "data": {
      "text/plain": [
       "36.289737262302225"
      ]
     },
     "execution_count": 117,
     "metadata": {},
     "output_type": "execute_result"
    }
   ],
   "source": [
    "D7 = np.load(\"Diameters_1_Pulses_7.75_Fluence.npy\")\n",
    "(D7[0]*1e6)**2"
   ]
  },
  {
   "cell_type": "code",
   "execution_count": 118,
   "id": "216bd38e-2845-4686-862d-473c49559b6a",
   "metadata": {},
   "outputs": [
    {
     "data": {
      "text/plain": [
       "38.12690521120628"
      ]
     },
     "execution_count": 118,
     "metadata": {},
     "output_type": "execute_result"
    }
   ],
   "source": [
    "D8 = np.load(\"Diameters_1_Pulses_8.875_Fluence.npy\")\n",
    "(D8[0]*1e6)**2"
   ]
  },
  {
   "cell_type": "code",
   "execution_count": 119,
   "id": "cf0e97a9-886e-4a2d-88cc-b01528f949f7",
   "metadata": {},
   "outputs": [
    {
     "data": {
      "text/plain": [
       "40.0094353316882"
      ]
     },
     "execution_count": 119,
     "metadata": {},
     "output_type": "execute_result"
    }
   ],
   "source": [
    "D9 = np.load(\"Diameters_1_Pulses_10.0_Fluence.npy\")\n",
    "(D9[0]*1e6)**2"
   ]
  },
  {
   "cell_type": "code",
   "execution_count": 120,
   "id": "02e01638-e8e0-470a-81d2-5b5a65e92949",
   "metadata": {},
   "outputs": [
    {
     "data": {
      "text/plain": [
       "array([1.36363636e-07])"
      ]
     },
     "execution_count": 120,
     "metadata": {},
     "output_type": "execute_result"
    }
   ],
   "source": [
    "L0 = np.load(\"Depth_1_Pulses_1.0_Fluence.npy\")\n",
    "L0"
   ]
  },
  {
   "cell_type": "code",
   "execution_count": 123,
   "id": "da356fea-ae6f-4d12-9d2e-d172b705d126",
   "metadata": {},
   "outputs": [
    {
     "data": {
      "text/plain": [
       "array([2.2459893e-07])"
      ]
     },
     "execution_count": 123,
     "metadata": {},
     "output_type": "execute_result"
    }
   ],
   "source": [
    "L1 = np.load(\"Depth_1_Pulses_2.125_Fluence.npy\")\n",
    "L1"
   ]
  },
  {
   "cell_type": "code",
   "execution_count": null,
   "id": "5296b50a-1904-4d6b-bd00-2f2982217e6c",
   "metadata": {},
   "outputs": [],
   "source": []
  }
 ],
 "metadata": {
  "kernelspec": {
   "display_name": "Python 3 (ipykernel)",
   "language": "python",
   "name": "python3"
  },
  "language_info": {
   "codemirror_mode": {
    "name": "ipython",
    "version": 3
   },
   "file_extension": ".py",
   "mimetype": "text/x-python",
   "name": "python",
   "nbconvert_exporter": "python",
   "pygments_lexer": "ipython3",
   "version": "3.11.1"
  }
 },
 "nbformat": 4,
 "nbformat_minor": 5
}
