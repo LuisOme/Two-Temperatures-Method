{
 "cells": [
  {
   "cell_type": "code",
   "execution_count": 1,
   "id": "fadd694a-4edd-4576-93e5-4b66e683332d",
   "metadata": {},
   "outputs": [],
   "source": [
    "import numpy as np\n",
    "import matplotlib.pyplot as plt\n",
    "\n",
    "import scipy.misc\n",
    "from scipy import ndimage\n",
    "import matplotlib.pyplot as plt"
   ]
  },
  {
   "cell_type": "code",
   "execution_count": 2,
   "id": "63ae4a2c-932e-4b70-8098-d5f6e659f26d",
   "metadata": {},
   "outputs": [],
   "source": [
    "# dx = 0.1e-6\n",
    "# dy = 0.1e-6\n",
    "dz = 1e-9\n",
    "dt = 1e-15"
   ]
  },
  {
   "cell_type": "code",
   "execution_count": 3,
   "id": "e7abb151-6cbd-49e0-9c38-be72a3c6ea74",
   "metadata": {},
   "outputs": [],
   "source": [
    "start_t = 0\n",
    "stop_t = 1e-12\n",
    "\n",
    "## Simetría X,Y\n",
    "# start_x = -10e-6\n",
    "# stop_x = 10e-6\n",
    "# start_y = -10e-6\n",
    "# stop_y = 10e-6\n",
    "\n",
    "start_z = 0\n",
    "stop_z = 500e-9\n",
    "\n",
    "# x = np.linspace(start_x,stop_x,int(round((stop_x-start_x)/dx)))\n",
    "# y = np.linspace(start_y,stop_y,int(round((stop_y-start_y)/dy)))\n",
    "z = np.linspace(start_z,stop_z,abs(int(round((stop_z-start_z)/dz))))\n",
    "t = np.linspace(start_t,stop_t,int(round((stop_t-start_t)/dt)))\n",
    "\n",
    "\n",
    "tt, zz = np.meshgrid(t,z)"
   ]
  },
  {
   "cell_type": "code",
   "execution_count": 4,
   "id": "4324a185-d84c-48b9-95ff-3b7dbefaa390",
   "metadata": {},
   "outputs": [],
   "source": [
    "ke = 235 # J/(mK s)\n",
    "k = 134.5 # J /(m^3 k^2)\n",
    "G = 5.69e17 # J /(m^3 K s)\n",
    "Cl = 2.42e6  # J /(m^3 K)\n",
    "R = 0.88 # A.U.\n",
    "delta = 20e-9 # nm\n",
    "ball_len = 100e-9 # nm\n",
    "T0 = 300 # K\n",
    "tp = 100e-15 # fs\n",
    "w0 = 12.4e-6 # um\n",
    "\n",
    "## Distancia de Rayleigh\n",
    "n = 1 # Coef Refl Aire\n",
    "wavelength = 1032e-9 # nm\n",
    "Zr = n*np.pi* w0**2 / wavelength\n",
    "F = 2 # J /cm**2\n",
    "\n",
    "x0 = 0 # Posición central del Spot en x\n",
    "y0 = 0 # Posición central del Spot en y"
   ]
  },
  {
   "cell_type": "code",
   "execution_count": 5,
   "id": "de6d6f70-0e43-4f57-840f-a2958a6d83e4",
   "metadata": {},
   "outputs": [
    {
     "ename": "ValueError",
     "evalue": "operands could not be broadcast together with shapes (500,) (500,1000) ",
     "output_type": "error",
     "traceback": [
      "\u001b[1;31m---------------------------------------------------------------------------\u001b[0m",
      "\u001b[1;31mValueError\u001b[0m                                Traceback (most recent call last)",
      "Cell \u001b[1;32mIn[5], line 4\u001b[0m\n\u001b[0;32m      2\u001b[0m w \u001b[38;5;241m=\u001b[39m w0 \u001b[38;5;241m*\u001b[39m (\u001b[38;5;241m1\u001b[39m \u001b[38;5;241m+\u001b[39m z\u001b[38;5;241m*\u001b[39m\u001b[38;5;241m*\u001b[39m\u001b[38;5;241m2\u001b[39m\u001b[38;5;241m/\u001b[39mZr\u001b[38;5;241m*\u001b[39m\u001b[38;5;241m*\u001b[39m\u001b[38;5;241m2\u001b[39m)\u001b[38;5;241m*\u001b[39m\u001b[38;5;241m*\u001b[39m\u001b[38;5;241m0.5\u001b[39m\n\u001b[0;32m      3\u001b[0m T \u001b[38;5;241m=\u001b[39m (\u001b[38;5;241m1\u001b[39m\u001b[38;5;241m/\u001b[39mtp) \u001b[38;5;241m*\u001b[39m (\u001b[38;5;241m4\u001b[39m\u001b[38;5;241m*\u001b[39mnp\u001b[38;5;241m.\u001b[39mlog(\u001b[38;5;241m2\u001b[39m)\u001b[38;5;241m/\u001b[39mnp\u001b[38;5;241m.\u001b[39mpi)\u001b[38;5;241m*\u001b[39m\u001b[38;5;241m*\u001b[39m\u001b[38;5;241m0.5\u001b[39m \u001b[38;5;241m*\u001b[39m np\u001b[38;5;241m.\u001b[39mexp(\u001b[38;5;241m-\u001b[39m\u001b[38;5;241m4\u001b[39m\u001b[38;5;241m*\u001b[39mnp\u001b[38;5;241m.\u001b[39mlog(\u001b[38;5;241m2\u001b[39m)\u001b[38;5;241m*\u001b[39m((tt\u001b[38;5;241m-\u001b[39m\u001b[38;5;241m2\u001b[39m\u001b[38;5;241m*\u001b[39mtp)\u001b[38;5;241m/\u001b[39mtp)\u001b[38;5;241m*\u001b[39m\u001b[38;5;241m*\u001b[39m\u001b[38;5;241m2\u001b[39m)\n\u001b[1;32m----> 4\u001b[0m S \u001b[38;5;241m=\u001b[39m \u001b[43m(\u001b[49m\u001b[38;5;241;43m1\u001b[39;49m\u001b[38;5;241;43m-\u001b[39;49m\u001b[43mR\u001b[49m\u001b[43m)\u001b[49m\u001b[38;5;241;43m/\u001b[39;49m\u001b[43m \u001b[49m\u001b[43m(\u001b[49m\u001b[43mdelta\u001b[49m\u001b[43m \u001b[49m\u001b[38;5;241;43m+\u001b[39;49m\u001b[43m \u001b[49m\u001b[43mball_len\u001b[49m\u001b[43m)\u001b[49m\u001b[43m \u001b[49m\u001b[38;5;241;43m*\u001b[39;49m\u001b[43m \u001b[49m\u001b[43mF\u001b[49m\u001b[43m \u001b[49m\u001b[38;5;241;43m*\u001b[39;49m\u001b[43m \u001b[49m\u001b[43mw0\u001b[49m\u001b[38;5;241;43m*\u001b[39;49m\u001b[38;5;241;43m*\u001b[39;49m\u001b[38;5;241;43m2\u001b[39;49m\u001b[38;5;241;43m/\u001b[39;49m\u001b[43mw\u001b[49m\u001b[38;5;241;43m*\u001b[39;49m\u001b[38;5;241;43m*\u001b[39;49m\u001b[38;5;241;43m2\u001b[39;49m\u001b[43m \u001b[49m\u001b[38;5;241;43m*\u001b[39;49m\u001b[43m \u001b[49m\u001b[43mnp\u001b[49m\u001b[38;5;241;43m.\u001b[39;49m\u001b[43mexp\u001b[49m\u001b[43m(\u001b[49m\n\u001b[0;32m      5\u001b[0m \u001b[43m    \u001b[49m\u001b[38;5;241;43m-\u001b[39;49m\u001b[43mzz\u001b[49m\u001b[38;5;241;43m/\u001b[39;49m\u001b[43m(\u001b[49m\u001b[43mdelta\u001b[49m\u001b[43m \u001b[49m\u001b[38;5;241;43m+\u001b[39;49m\u001b[43m \u001b[49m\u001b[43mball_len\u001b[49m\u001b[43m)\u001b[49m\u001b[43m)\u001b[49m\n\u001b[0;32m      6\u001b[0m Q \u001b[38;5;241m=\u001b[39m T\u001b[38;5;241m*\u001b[39mS\n\u001b[0;32m      7\u001b[0m plt\u001b[38;5;241m.\u001b[39mimshow(Q,extent \u001b[38;5;241m=\u001b[39m [z[\u001b[38;5;241m0\u001b[39m]\u001b[38;5;241m*\u001b[39m\u001b[38;5;241m1e6\u001b[39m,z[\u001b[38;5;241m-\u001b[39m\u001b[38;5;241m1\u001b[39m]\u001b[38;5;241m*\u001b[39m\u001b[38;5;241m1e6\u001b[39m,t[\u001b[38;5;241m-\u001b[39m\u001b[38;5;241m1\u001b[39m]\u001b[38;5;241m*\u001b[39m\u001b[38;5;241m1e12\u001b[39m,t[\u001b[38;5;241m0\u001b[39m]\u001b[38;5;241m*\u001b[39m\u001b[38;5;241m1e12\u001b[39m],aspect \u001b[38;5;241m=\u001b[39m \u001b[38;5;124m'\u001b[39m\u001b[38;5;124mauto\u001b[39m\u001b[38;5;124m'\u001b[39m)\n",
      "\u001b[1;31mValueError\u001b[0m: operands could not be broadcast together with shapes (500,) (500,1000) "
     ]
    }
   ],
   "source": [
    "# Obtenemos el Valor T(t)\n",
    "w = w0 * (1 + z**2/Zr**2)**0.5\n",
    "T = (1/tp) * (4*np.log(2)/np.pi)**0.5 * np.exp(-4*np.log(2)*((tt-2*tp)/tp)**2)\n",
    "S = (1-R)/ (delta + ball_len) * F * w0**2/w**2 * np.exp(\n",
    "    -zz/(delta + ball_len))\n",
    "Q = T*S\n",
    "plt.imshow(Q,extent = [z[0]*1e6,z[-1]*1e6,t[-1]*1e12,t[0]*1e12],aspect = 'auto')\n",
    "plt.title(\"Q(z,t)\")\n",
    "plt.xlabel(r\"Profundidad Z($\\mu$m)\")\n",
    "plt.ylabel(\"Tiempo (ps)\")\n",
    "cbar = plt.colorbar(cmap='jet')\n",
    "# cbar.set_label('Q(z,t)', rotation=90)\n",
    "plt.show()"
   ]
  },
  {
   "cell_type": "code",
   "execution_count": null,
   "id": "8f15a7e2-b4e7-4581-bd3c-33badc45508e",
   "metadata": {},
   "outputs": [],
   "source": []
  }
 ],
 "metadata": {
  "kernelspec": {
   "display_name": "Python 3 (ipykernel)",
   "language": "python",
   "name": "python3"
  },
  "language_info": {
   "codemirror_mode": {
    "name": "ipython",
    "version": 3
   },
   "file_extension": ".py",
   "mimetype": "text/x-python",
   "name": "python",
   "nbconvert_exporter": "python",
   "pygments_lexer": "ipython3",
   "version": "3.11.1"
  }
 },
 "nbformat": 4,
 "nbformat_minor": 5
}
