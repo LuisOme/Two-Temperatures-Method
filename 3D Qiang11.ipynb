{
 "cells": [
  {
   "cell_type": "code",
   "execution_count": 1,
   "id": "ebdeff8e-80bb-4add-afd2-6fe99934ec64",
   "metadata": {},
   "outputs": [],
   "source": [
    "import numpy as np\n",
    "import matplotlib.pyplot as plt\n",
    "\n",
    "import scipy.misc\n",
    "from scipy import ndimage\n",
    "import matplotlib.pyplot as plt"
   ]
  },
  {
   "cell_type": "markdown",
   "id": "dd592bf6-1ef0-488a-946f-68aebedfea9e",
   "metadata": {},
   "source": [
    "### Parámetros de Mallado"
   ]
  },
  {
   "cell_type": "code",
   "execution_count": 3,
   "id": "32209869-f18b-4888-a588-fb58a0d6aab0",
   "metadata": {},
   "outputs": [],
   "source": [
    "### RECORREMOS UNA PROFUNDIDAD\n",
    "\n",
    "dz = 8e-9  ## Paso en Profundidad  nm\n",
    "start_z = 0\n",
    "stop_z = 600e-9\n",
    "\n",
    "### PARA LA SUPERFICIE X-Y\n",
    "dy = 0.1e-6  ## Paso en Superficie um\n",
    "start_y = -10e-6\n",
    "stop_y = 10e-6\n",
    "\n",
    "dx = 0.1e-6  ## Paso en Superficie um\n",
    "start_x = -10e-6\n",
    "stop_x = 10e-6\n",
    "\n",
    "### EN UN TIEMPO \n",
    "dt = 5e-15  ## Time Step fs\n",
    "start_t = 0\n",
    "stop_t = 3e-12\n",
    "\n",
    "\n",
    "x = np.linspace(start_x,stop_x,int(round((stop_x-start_x)/dx)))\n",
    "y = np.linspace(start_y,stop_y,int(round((stop_y-start_y)/dy)))\n",
    "z = np.linspace(start_z,stop_z,int(round((stop_z-start_z)/dz)))\n",
    "t = np.linspace(start_t,stop_t,int(round((stop_t-start_t)/dt)))\n",
    "\n",
    "X,Y,Z,tt= np.meshgrid(x,y,z,t)"
   ]
  },
  {
   "cell_type": "code",
   "execution_count": null,
   "id": "d9281a4b-849b-4206-a30b-f714b8d2083e",
   "metadata": {},
   "outputs": [],
   "source": [
    "# ------------- Red Electrones -----------------\n",
    "Ce_aux = 134.5 # J / (m^3 K^2)\n",
    "ke = 235  # J /(m K s)\n",
    "g = 5.69e17 # J /(m K^3 s)\n",
    "\n",
    "#  ----------------------------------------------\n",
    "\n",
    "# ------------- Red Lattice -----------------\n",
    "Ci = 2.42e6  # J / (m^3 K)\n",
    "#  -------------------------------------------\n",
    "\n",
    "\n",
    "# ------------- Parámetros Láser -----------------\n",
    "R = 0.88 # Reflectancia A.U.\n",
    "delta = 20e-9 # Optical Penetration (nm)\n",
    "ball_len = 100e-9 # Ballistic Length (nm)\n",
    "F = 5*1e4 # Fluence J/cm^2 -> J/m^2 \n",
    "tp = 100e-15 # FWHM fs\n",
    "w0 = 5e-6 # Waist um\n",
    "#  ------------------------------------------------------\n",
    "\n",
    "# ------------- Parámetros Varios -----------------\n",
    "ys = 3e-6 ## Perfil de Apertura del Láser (um)\n",
    "T0 = 300 # K Temperatura Ambiente (K)\n",
    "x0 = 0 # Posición central del Spot en x\n",
    "y0 = 0 # Posición central del Spot en y\n"
   ]
  }
 ],
 "metadata": {
  "kernelspec": {
   "display_name": "Python 3 (ipykernel)",
   "language": "python",
   "name": "python3"
  },
  "language_info": {
   "codemirror_mode": {
    "name": "ipython",
    "version": 3
   },
   "file_extension": ".py",
   "mimetype": "text/x-python",
   "name": "python",
   "nbconvert_exporter": "python",
   "pygments_lexer": "ipython3",
   "version": "3.11.1"
  }
 },
 "nbformat": 4,
 "nbformat_minor": 5
}
