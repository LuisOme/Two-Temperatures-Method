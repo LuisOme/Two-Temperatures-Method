{
 "cells": [
  {
   "cell_type": "code",
   "execution_count": 1,
   "id": "f63f0197-69a4-4ab7-88ab-b74c90491e33",
   "metadata": {},
   "outputs": [],
   "source": [
    "import os \n",
    "import numpy as np\n",
    "import matplotlib.pyplot as plt"
   ]
  },
  {
   "cell_type": "code",
   "execution_count": 5,
   "id": "02909c66-a6e8-4390-b9c1-36a5a4e7da50",
   "metadata": {},
   "outputs": [],
   "source": [
    "f = 15.50e4"
   ]
  },
  {
   "cell_type": "code",
   "execution_count": 6,
   "id": "2b428cc5-399b-4f28-868a-e62e62cf56ad",
   "metadata": {},
   "outputs": [
    {
     "data": {
      "text/plain": [
       "True"
      ]
     },
     "execution_count": 6,
     "metadata": {},
     "output_type": "execute_result"
    }
   ],
   "source": [
    "os.path.exists(f\"Resultados/Multipulse/Spot_5um/Fluence{f*1e-4:.2f}\")"
   ]
  },
  {
   "cell_type": "code",
   "execution_count": null,
   "id": "81fd7669-ee36-4296-8508-d5d1de4040af",
   "metadata": {},
   "outputs": [],
   "source": []
  }
 ],
 "metadata": {
  "kernelspec": {
   "display_name": "Python 3 (ipykernel)",
   "language": "python",
   "name": "python3"
  },
  "language_info": {
   "codemirror_mode": {
    "name": "ipython",
    "version": 3
   },
   "file_extension": ".py",
   "mimetype": "text/x-python",
   "name": "python",
   "nbconvert_exporter": "python",
   "pygments_lexer": "ipython3",
   "version": "3.11.1"
  }
 },
 "nbformat": 4,
 "nbformat_minor": 5
}
