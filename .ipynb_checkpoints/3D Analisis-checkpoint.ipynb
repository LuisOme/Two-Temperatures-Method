{
 "cells": [
  {
   "cell_type": "code",
   "execution_count": 1,
   "id": "8490b56f-23ce-4f1c-b4d1-0b31bb3be1a6",
   "metadata": {},
   "outputs": [],
   "source": [
    "import numpy as np\n",
    "import matplotlib.pyplot as plt\n",
    "\n",
    "import scipy.misc\n",
    "from scipy import ndimage\n",
    "import matplotlib.pyplot as plt\n",
    "\n",
    "import pandas as pd\n",
    "\n",
    "from tqdm import tqdm\n",
    "from notebook_video_writer import VideoWriter"
   ]
  },
  {
   "cell_type": "markdown",
   "id": "bc5806bf-d4c6-4dee-976f-2d9724c52269",
   "metadata": {},
   "source": [
    "## Análisis de la Superficie Ablacionada"
   ]
  },
  {
   "cell_type": "markdown",
   "id": "047bd103-cde3-4cd8-8e7e-a6f326aa0cb8",
   "metadata": {},
   "source": [
    "### Cargamos Parámetros Para el Análisis"
   ]
  },
  {
   "cell_type": "code",
   "execution_count": 2,
   "id": "ac8095aa-fc6d-40d9-bbfe-4d1ff27138e1",
   "metadata": {},
   "outputs": [],
   "source": [
    "# df = pd.DataFrame(columns=['Fluence (J/cm$^2$)', 'Depth (um)', 'Diameter (um)','Diameter$^2$ (um$^2$)'])\n",
    "# df = pd.DataFrame(columns=['F', 'L', 'Lnm','D','D2'])\n",
    "\n",
    "# ------------------ Temperatura Crítica ------------------------------------\n",
    "Tc = 5370 # Temperatura Crítica (K)\n",
    "# ------------------------------------------------------------------------\n",
    "\n",
    "# -------------------- Dataframe ya cargado -------------------------------\n",
    "df = pd.read_excel(\"Dataframe.xlsx\",header=0)\n",
    "# ------------------------------------------------------------------------\n",
    "\n",
    "# ----------------------------------- MALLADO USADO ------------------\n",
    "### PASOS EN Z\n",
    "dz = 0.01e-6 ## Paso en Profundidad  nm\n",
    "start_z = 0\n",
    "stop_z = 1e-6\n",
    "\n",
    "### PARA LA SUPERFICIE X-Y\n",
    "dy = 0.25e-6  ## Paso en Superficie um\n",
    "start_y = -15e-6\n",
    "stop_y = 15e-6\n",
    "\n",
    "dx = 0.25e-6  ## Paso en Superficie um\n",
    "start_x = -15e-6\n",
    "stop_x = 15e-6\n",
    "\n",
    "### EN UN TIEMPO \n",
    "dt = 10e-15  ## Time Step fs\n",
    "start_t = 0\n",
    "stop_t = 5e-12 ## Finalizamos a ps\n",
    "\n",
    "\n",
    "x = np.linspace(start_x,stop_x,int(round((stop_x-start_x)/dx)))\n",
    "y = np.linspace(start_y,stop_y,int(round((stop_y-start_y)/dy)))\n",
    "z = np.linspace(start_z,stop_z,int(round((stop_z-start_z)/dz)))\n",
    "t = np.linspace(start_t,stop_t,int(round((stop_t-start_t)/dt)))\n",
    "\n",
    "y_mid = y.shape[0]//2\n",
    "\n",
    "# ------------------------------------------------------------------------"
   ]
  },
  {
   "cell_type": "markdown",
   "id": "ea48bc11-8fcb-4aee-8596-017acc0e4870",
   "metadata": {},
   "source": [
    "### Valor de Fluencia a Analizar"
   ]
  },
  {
   "cell_type": "code",
   "execution_count": 3,
   "id": "ff5fe02b-8b32-4caf-ab13-86633e359695",
   "metadata": {},
   "outputs": [],
   "source": [
    "F = 5 ## EN J/cm^2 !!!!!"
   ]
  },
  {
   "cell_type": "code",
   "execution_count": 4,
   "id": "5553622f-7387-48b9-9644-bde2bd50f039",
   "metadata": {},
   "outputs": [],
   "source": [
    "filename = f\"Tred_{F:.1f}J_cm2.npy\"\n",
    "Te = np.load(filename)\n",
    "abl = Te[:,:,:] > 0.9*Tc\n",
    "abl = abl*1\n",
    "material_volume = np.ones_like(abl)\n",
    "new_volume = material_volume - abl"
   ]
  },
  {
   "cell_type": "code",
   "execution_count": 470,
   "id": "19fa1674-b0f0-4e2a-a522-37159869b34b",
   "metadata": {},
   "outputs": [],
   "source": [
    "# -------- VISUALIZAR LOS AGUJEROS --------------------------\n",
    "\n",
    "# fig, (ax1,ax2) = plt.subplots(1,2,figsize = (12,6))\n",
    "# fig.suptitle('Muestra tras Ablación')\n",
    "# plt.gca().invert_yaxis()\n",
    "\n",
    "\n",
    "# im1 = ax1.pcolor(x*1e6,y*1e6,new_volume[:,:,0],vmin = 0, vmax = 1,cmap = \"Greys\")\n",
    "# ax1.set_title(\"Ablación Perfil X-Y \")\n",
    "# ax1.set_xlabel(\"X ($\\mu m$)\")\n",
    "# ax1.set_ylabel(\"Y ($\\mu m$)\")\n",
    "\n",
    "# aux_new_volume = np.transpose(new_volume,axes = [0,2,1])\n",
    "# im2 = ax2.pcolor(x,z,aux_new_volume[y_mid,:,:],vmin = 0, vmax = 1,cmap = \"Greys\")\n",
    "# ax2.set_title(\"Ablación Perfil X-Z \")\n",
    "# ax2.set_xlabel(\"X ($\\mu m$)\")\n",
    "# ax2.set_ylabel(\"Z ($\\mu m$)\");\n",
    "\n",
    "# ---------------------------------------------------------------------------"
   ]
  },
  {
   "cell_type": "code",
   "execution_count": 5,
   "id": "93776ddb-fa84-486d-a508-094442a4f254",
   "metadata": {},
   "outputs": [
    {
     "name": "stdout",
     "output_type": "stream",
     "text": [
      "Profunidad de Ablación: 0.17 μm\n",
      "Diámetro del Cráter: 3.78 μm\n"
     ]
    },
    {
     "data": {
      "text/html": [
       "<div>\n",
       "<style scoped>\n",
       "    .dataframe tbody tr th:only-of-type {\n",
       "        vertical-align: middle;\n",
       "    }\n",
       "\n",
       "    .dataframe tbody tr th {\n",
       "        vertical-align: top;\n",
       "    }\n",
       "\n",
       "    .dataframe thead th {\n",
       "        text-align: right;\n",
       "    }\n",
       "</style>\n",
       "<table border=\"1\" class=\"dataframe\">\n",
       "  <thead>\n",
       "    <tr style=\"text-align: right;\">\n",
       "      <th></th>\n",
       "      <th>F</th>\n",
       "      <th>L</th>\n",
       "      <th>Lnm</th>\n",
       "      <th>D</th>\n",
       "      <th>D2</th>\n",
       "    </tr>\n",
       "  </thead>\n",
       "  <tbody>\n",
       "    <tr>\n",
       "      <th>0</th>\n",
       "      <td>2.0</td>\n",
       "      <td>0.060606</td>\n",
       "      <td>60.606061</td>\n",
       "      <td>1.764706</td>\n",
       "      <td>3.114187</td>\n",
       "    </tr>\n",
       "    <tr>\n",
       "      <th>1</th>\n",
       "      <td>3.0</td>\n",
       "      <td>0.111111</td>\n",
       "      <td>111.111111</td>\n",
       "      <td>2.773109</td>\n",
       "      <td>7.690135</td>\n",
       "    </tr>\n",
       "    <tr>\n",
       "      <th>2</th>\n",
       "      <td>3.5</td>\n",
       "      <td>0.121212</td>\n",
       "      <td>121.212121</td>\n",
       "      <td>3.025210</td>\n",
       "      <td>9.151896</td>\n",
       "    </tr>\n",
       "    <tr>\n",
       "      <th>3</th>\n",
       "      <td>4.0</td>\n",
       "      <td>0.141414</td>\n",
       "      <td>141.414141</td>\n",
       "      <td>3.277311</td>\n",
       "      <td>10.740767</td>\n",
       "    </tr>\n",
       "    <tr>\n",
       "      <th>4</th>\n",
       "      <td>4.5</td>\n",
       "      <td>0.151515</td>\n",
       "      <td>151.515152</td>\n",
       "      <td>3.502300</td>\n",
       "      <td>12.266105</td>\n",
       "    </tr>\n",
       "    <tr>\n",
       "      <th>5</th>\n",
       "      <td>5.0</td>\n",
       "      <td>0.171717</td>\n",
       "      <td>171.717172</td>\n",
       "      <td>3.781513</td>\n",
       "      <td>14.299838</td>\n",
       "    </tr>\n",
       "    <tr>\n",
       "      <th>6</th>\n",
       "      <td>5.0</td>\n",
       "      <td>0.171717</td>\n",
       "      <td>171.717172</td>\n",
       "      <td>3.781513</td>\n",
       "      <td>14.299838</td>\n",
       "    </tr>\n",
       "  </tbody>\n",
       "</table>\n",
       "</div>"
      ],
      "text/plain": [
       "     F         L         Lnm         D         D2\n",
       "0  2.0  0.060606   60.606061  1.764706   3.114187\n",
       "1  3.0  0.111111  111.111111  2.773109   7.690135\n",
       "2  3.5  0.121212  121.212121  3.025210   9.151896\n",
       "3  4.0  0.141414  141.414141  3.277311  10.740767\n",
       "4  4.5  0.151515  151.515152  3.502300  12.266105\n",
       "5  5.0  0.171717  171.717172  3.781513  14.299838\n",
       "6  5.0  0.171717  171.717172  3.781513  14.299838"
      ]
     },
     "execution_count": 5,
     "metadata": {},
     "output_type": "execute_result"
    }
   ],
   "source": [
    "Z_profile = new_volume[y_mid,y_mid,:]\n",
    "X_profile = new_volume[:,y_mid,0]\n",
    "\n",
    "for i in range(len(Z_profile)-1):\n",
    "    if Z_profile[i]-Z_profile[i+1] != 0:\n",
    "        index_z = i\n",
    "for i in range(len(X_profile)-1):\n",
    "    if X_profile[i]-X_profile[i+1] != 0:\n",
    "        index_x = i\n",
    "        \n",
    "Z_depth = z[index_z]\n",
    "print(f\"Profunidad de Ablación: {Z_depth*1e6:.2f} \\u03BCm\")\n",
    "\n",
    "if F % 1 ==0:\n",
    "    D = 2*np.abs(x[index_x])\n",
    "else: \n",
    "    D = 2*np.abs(x[index_x] + (x[index_x+1]-x[index_x])/2)\n",
    "print(f\"Diámetro del Cráter: {D*1e6:.2f} \\u03BCm\")\n",
    "\n",
    "df.loc[len(df.index)+1] = [F,Z_depth*1e6,Z_depth*1e9, D*1e6,(D*1e6)**2,]\n",
    "\n",
    "df = df.sort_values(\"F\")\n",
    "df = df.reset_index(drop = True)\n",
    "df.head(10)"
   ]
  },
  {
   "cell_type": "code",
   "execution_count": 12,
   "id": "6fc29026-36b7-4f00-8f25-3d664d816ff1",
   "metadata": {},
   "outputs": [
    {
     "data": {
      "image/png": "[encoded data removed]",
      "text/plain": [
       "<Figure size 1200x600 with 2 Axes>"
      ]
     },
     "metadata": {},
     "output_type": "display_data"
    }
   ],
   "source": [
    "fig, (ax1,ax2) = plt.subplots(1,2,figsize = (12,6))\n",
    "fig.suptitle('Dependencias con Fluence $J/cm^2$')\n",
    "df.plot.scatter(\"F\",\"Lnm\",title = \"Depth vs Fluence\",\n",
    "                xlabel = \"Fluence ($J/cm^2$)\", ylabel = \"Depth ($nm$)\",ax = ax1);\n",
    "df.plot.scatter(\"F\",\"D2\",title = \"Diameter $^2$ vs Fluence\",\n",
    "                xlabel = \"Fluence ($J/cm^2$)\", ylabel = \"Diameter$^2$ ($\\mu m$)\",ax = ax2);\n",
    "\n"
   ]
  },
  {
   "cell_type": "code",
   "execution_count": 13,
   "id": "5acf51fe-60e4-4dc6-a35f-5ba2f8c52e7a",
   "metadata": {},
   "outputs": [],
   "source": [
    "df.to_excel(\"Dataframe.xlsx\",index = False)"
   ]
  },
  {
   "cell_type": "code",
   "execution_count": null,
   "id": "986b5ed8-9644-47a4-881a-fcb56056604c",
   "metadata": {},
   "outputs": [],
   "source": []
  }
 ],
 "metadata": {
  "kernelspec": {
   "display_name": "Python 3 (ipykernel)",
   "language": "python",
   "name": "python3"
  },
  "language_info": {
   "codemirror_mode": {
    "name": "ipython",
    "version": 3
   },
   "file_extension": ".py",
   "mimetype": "text/x-python",
   "name": "python",
   "nbconvert_exporter": "python",
   "pygments_lexer": "ipython3",
   "version": "3.11.1"
  }
 },
 "nbformat": 4,
 "nbformat_minor": 5
}
