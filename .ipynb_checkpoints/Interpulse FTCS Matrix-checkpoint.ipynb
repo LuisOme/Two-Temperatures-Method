{
 "cells": [
  {
   "cell_type": "code",
   "execution_count": 15,
   "id": "ebdeff8e-80bb-4add-afd2-6fe99934ec64",
   "metadata": {},
   "outputs": [],
   "source": [
    "import numpy as np\n",
    "import matplotlib.pyplot as plt\n",
    "\n",
    "import scipy.misc\n",
    "from scipy import ndimage\n",
    "import matplotlib.pyplot as plt\n",
    "\n",
    "import pandas as pd"
   ]
  },
  {
   "cell_type": "markdown",
   "id": "dd592bf6-1ef0-488a-946f-68aebedfea9e",
   "metadata": {},
   "source": [
    "### Parámetros de Mallado"
   ]
  },
  {
   "cell_type": "code",
   "execution_count": 16,
   "id": "e3e333bd-8ea0-4e04-8e42-626a8ac50409",
   "metadata": {},
   "outputs": [],
   "source": [
    "### RECORREMOS UNA PROFUNDIDAD\n",
    "\n",
    "dz = 0.008e-6 ## Paso en Profundidad  nm\n",
    "start_z = 0\n",
    "stop_z = 1e-6\n",
    "\n",
    "# ### PARA LA SUPERFICIE X-Y\n",
    "# dy = 0.15e-6  ## Paso en Superficie um\n",
    "# start_y = 0\n",
    "# stop_y = 15e-6\n",
    "\n",
    "dx = 0.05e-6  ## Paso en Superficie um\n",
    "start_x = 0e-6\n",
    "stop_x = 10e-6\n",
    "\n",
    "### EN UN TIEMPO \n",
    "dt = 10e-15  ## Time Step fs\n",
    "start_t = 0\n",
    "stop_t = 100e-12 ## Finalizamos a ps\n",
    "\n",
    "\n",
    "x = np.linspace(start_x,stop_x,int(round((stop_x-start_x)/dx)))\n",
    "# y = np.linspace(start_y,stop_y,int(round((stop_y-start_y)/dy)))\n",
    "z = np.linspace(start_z,stop_z,int(round((stop_z-start_z)/dz)))\n",
    "t = np.linspace(start_t,stop_t,int(round((stop_t-start_t)/dt)))\n",
    "\n",
    "X,Z,tt= np.meshgrid(x,z,t)\n",
    "\n",
    "## Auxiliar para Plot X-Z en punto medio de Y\n",
    "x_mid = x.shape[0]//2"
   ]
  },
  {
   "cell_type": "code",
   "execution_count": 17,
   "id": "c5259d22-b787-4bc3-8997-0a9cc701d8b8",
   "metadata": {},
   "outputs": [],
   "source": [
    "# ------------- Red Electrones -----------------\n",
    "Ce_aux = 134.5 # J / (m^3 K^2)\n",
    "ke = 235  # J /(m K s)\n",
    "g = 5.69e17 # J /(m K^3 s)\n",
    "\n",
    "#  ----------------------------------------------\n",
    "\n",
    "# ------------- Red Lattice -----------------\n",
    "Ci = 2.42e6  # J / (m^3 K)\n",
    "ki = ke/99\n",
    "#  -------------------------------------------\n",
    "\n",
    "\n",
    "# ------------- Parámetros Láser -----------------\n",
    "R = 0.88 # Reflectancia A.U.\n",
    "delta = 20e-9 # Optical Penetration (nm)\n",
    "ball_len = 100e-9 # Ballistic Length (nm)\n",
    " \n",
    "tp = 100e-15 # FWHM fs\n",
    "w0 = 5e-6 # Waist um\n",
    "wavelength = 1.032e-6 # Wavelength (um)\n",
    "#  ------------------------------------------------------\n",
    "\n",
    "# ------------- Parámetros Varios -----------------\n",
    "ys = 3e-6 ## Perfil de Apertura del Láser (um)\n",
    "T0 = 300 # K Temperatura Ambiente (K)\n",
    "x0 = 0 # Posición central del Spot en x\n",
    "y0 = 0 # Posición central del Spot en y\n",
    "zs = 0 # Z superficial\n",
    "n = 1 ## Refractive Index\n",
    "Zr = n*np.pi*w0**2/wavelength\n",
    "w = w0*(1+Z**2/Zr**2)**1/2"
   ]
  },
  {
   "cell_type": "markdown",
   "id": "6d94c1b5-befc-46cd-b539-122d47aab2ed",
   "metadata": {},
   "source": [
    "### PARAMETRO A OPTIMIZAR"
   ]
  },
  {
   "cell_type": "code",
   "execution_count": 18,
   "id": "f8092eb0-02fc-4ae5-ba42-c8da808320de",
   "metadata": {},
   "outputs": [],
   "source": [
    "F = 2*1e4 # Fluence J/cm^2 -> J/m^2"
   ]
  },
  {
   "cell_type": "code",
   "execution_count": 19,
   "id": "9818c9dd-5018-4042-ba1b-a02109a6c1a0",
   "metadata": {},
   "outputs": [
    {
     "name": "stdout",
     "output_type": "stream",
     "text": [
      "Q Shape: (125, 200, 10000)\n",
      "Qt Shape: (200, 125, 10000)\n"
     ]
    }
   ],
   "source": [
    "### Cálculos de la Fuente Laser \n",
    "    # Q(x,y,z,t) = T(t) * S(x,y,z)\n",
    "\n",
    "T = 1/tp * np.sqrt(4 * np.log(2)/np.pi) * np.exp(\n",
    "-4*np.log(2) * ((t - 2*tp)/tp)**2)\n",
    "\n",
    "S = (1-R)/(delta + ball_len) * F * np.exp(\n",
    "-(Z-zs)/(delta+ball_len) - (2*(X-x0)**2 + 2*(X-y0)**2)/w**2)\n",
    "\n",
    "\n",
    "Q = S*T\n",
    "print(f\"Q Shape: {Q.shape}\")\n",
    "### Temperaturas para t0\n",
    "\n",
    "\n",
    "\n",
    "\n",
    "### Parametro Auxiliar\n",
    "s = dt/Ce_aux\n",
    "\n",
    "Qt = np.transpose(Q,axes=[1,0,2])\n",
    "\n",
    "Te = np.ones_like(Qt[:,:,0])*300\n",
    "Ti = np.ones_like(Qt[:,:,0])*300\n",
    "Tenew,Tinew = np.zeros_like(Te), np.zeros_like(Ti)\n",
    "\n",
    "print(f\"Qt Shape: {Qt.shape}\")"
   ]
  },
  {
   "cell_type": "code",
   "execution_count": null,
   "id": "6f311454-8ae7-46a3-b687-426f0db932c9",
   "metadata": {
    "scrolled": true,
    "tags": []
   },
   "outputs": [],
   "source": [
    "Te_evolution = []\n",
    "Ti_evolution = []\n",
    "\n",
    "for n in range(0,len(t)-1):\n",
    "    for k in range(1,len(z)-1):\n",
    "            for i in range(1,len(x)-1):\n",
    "                Tenew[i,k] = Te[i,k] + s/Te[i,k]*(\n",
    "                    ke*(2*(Te[i+1,k] - 2 * Te[i,k] + Te[i-1,k])/dx/dx + (Te[i,k+1] -2*Te[i,k] + Te[i,k-1])/dz/dz)) - (\n",
    "                    s/Te[i,k]*g*(Te[i,k]-Ti[i,k])) + s/Te[i,k]*Qt[i,k,n]\n",
    "            \n",
    "                Tinew[i,k] = Ti[i,k] + dt/Ci*ki*(2*(Ti[i+1,k]-2*Ti[i,k]-Ti[i-1,k])/dx/dx + (Ti[i,k-1]-2*Ti[i,k+1]+Ti[i,k+1])/dz/dz) +dt/Ci * g * (Te[i,k] - Ti[i,k])\n",
    "            \n",
    "    ### CONDICIONES DE CONTORNO\n",
    "    Tenew[0,:], Tenew[-1,:], Tenew[:,0], Tenew[:,-1] = Tenew[1,:], Tenew[-2,:], Tenew[:,1], Tenew[:,-2]\n",
    "    Tinew[0,:], Tinew[-1,:], Tinew[:,0], Tinew[:,-1] = Tinew[1,:], Tinew[-2,:], Tinew[:,1], Tinew[:,-2]\n",
    "    Te = Tenew\n",
    "    Ti = Tinew\n",
    "    \n",
    "    Tet = np.transpose(Te)\n",
    "    Tit = np.transpose(Ti)\n",
    "    # print(Te.shape)\n",
    "    Te_evolution.append(Te[0,0])\n",
    "    Ti_evolution.append(Ti[0,0])\n",
    "    \n",
    "    if (n%1000 == 0):\n",
    "        \n",
    "        fig, ((ax2), (ax4)) = plt.subplots(1,2,figsize=(8,8))\n",
    "        plt.gca().invert_yaxis()\n",
    "        fig.tight_layout()\n",
    "        \n",
    "        fig.subplots_adjust(hspace=0.5,wspace=0.5)\n",
    "        fig.suptitle(f't: {t[n]*1e15:.2f} fs',y = 1.05,fontname=\"Times New Roman\", fontweight=\"bold\")\n",
    "        \n",
    "        \n",
    "        # im1 = ax1.pcolor(X[:,:,0,n]*1e6,Y[:,:,0,n]*1e6,Te[:,:,0],vmin = 300,vmax = 14000,cmap=\"RdYlBu_r\",)\n",
    "        # fig.colorbar(im1)\n",
    "        # ax1.set_title(\"$T_{e^{-}}$ Perfil X-Y \")\n",
    "        # ax1.set_xlabel(\"X ($\\mu m$)\")\n",
    "        # ax1.set_ylabel(\"Y ($\\mu m$)\")\n",
    "        \n",
    "        \n",
    "        im2 = ax2.pcolor(x*1e6,z*1e6,Tet[:,:],vmin = 300,vmax = 14000,cmap=\"RdYlBu_r\",)\n",
    "        fig.colorbar(im2)\n",
    "        ax2.invert_yaxis()\n",
    "        ax2.set_title(\"$T_{e^{-}}$ Perfil X-Z \")\n",
    "        ax2.set_xlabel(\"X ($\\mu m$)\")\n",
    "        ax2.set_ylabel(\"Z ($\\mu m$)\")\n",
    "        \n",
    "        # im3 = ax3.pcolor(X[:,:,0,n]*1e6,Y[:,:,0,n]*1e6,Ti[:,:,0],vmin = 300,vmax = 6500,cmap=\"RdYlBu_r\",)\n",
    "        # fig.colorbar(im3)\n",
    "        # ax3.set_title(\"$T_{lattice}$ Perfil X-Y \")\n",
    "        # ax3.set_xlabel(\"X ($\\mu m$)\")\n",
    "        # ax3.set_ylabel(\"Y ($\\mu m$)\")\n",
    "        \n",
    "        im4 = ax4.pcolor(x*1e6,z*1e6,Tit[:,:],vmin = 300,vmax = 6500,cmap=\"RdYlBu_r\",)\n",
    "        fig.colorbar(im4)\n",
    "        ax4.set_title(\"$T_{lattice}$ Perfil X-Z \")\n",
    "        ax4.set_xlabel(\"X ($\\mu m$)\")\n",
    "        ax4.set_ylabel(\"Z ($\\mu m$)\")\n",
    "\n",
    "        for ax in fig.get_axes():\n",
    "            ax.label_outer()\n",
    "            \n",
    "        plt.show()"
   ]
  },
  {
   "cell_type": "code",
   "execution_count": 25,
   "id": "ecdfba91-b5dd-440b-9226-66b2748fe9b7",
   "metadata": {
    "scrolled": true,
    "tags": []
   },
   "outputs": [
    {
     "data": {
      "text/plain": [
       "8097"
      ]
     },
     "execution_count": 25,
     "metadata": {},
     "output_type": "execute_result"
    }
   ],
   "source": [
    "len(Te_evolution)"
   ]
  },
  {
   "cell_type": "code",
   "execution_count": 27,
   "id": "363c9a95-8d9d-4a23-aa8b-b9f6cdd181a5",
   "metadata": {
    "tags": []
   },
   "outputs": [
    {
     "data": {
      "text/plain": [
       "<matplotlib.legend.Legend at 0x2376b860890>"
      ]
     },
     "execution_count": 27,
     "metadata": {},
     "output_type": "execute_result"
    },
    {
     "data": {
      "image/png": "[encoded data removed]",
      "text/plain": [
       "<Figure size 640x480 with 1 Axes>"
      ]
     },
     "metadata": {},
     "output_type": "display_data"
    }
   ],
   "source": [
    "last_value = 1\n",
    "plt.title(r'Temperature Evolution F = 2.5${J}/{cm^{2}}$')\n",
    "\n",
    "plt.plot(t[:len(Te_evolution)-1]*1e12,Te_evolution[:-last_value],ls = '--',label = '$T_{e^-}$',color=\"black\")\n",
    "plt.plot(t[:len(Te_evolution)-1]*1e12,Ti_evolution[:-last_value],ls = 'dotted',label = '$T_{lattice}$',color=\"dimgrey\")\n",
    "plt.xlabel(\"Time (ps)\")\n",
    "plt.ylabel(\"Temperature(K)\")\n",
    "plt.legend()"
   ]
  },
  {
   "cell_type": "code",
   "execution_count": null,
   "id": "486e6ddc-0e68-4ff5-b3c4-a4439fac841b",
   "metadata": {
    "scrolled": true,
    "tags": []
   },
   "outputs": [],
   "source": [
    "np.save(f\"Imagenes/T-Tiempo/Te_Ki_XSimmetry_{F*1e-4:.2f}\",Te_evolution)\n",
    "np.save(f\"Imagenes/T-Tiempo/Ti_Ki_XSimmetry{F*1e-4:.2f}\",Ti_evolution)\n",
    "# np.save(f\"Tred_{F/1e4:.1f}J_cm2\",Ti)"
   ]
  },
  {
   "cell_type": "markdown",
   "id": "982ba78e-10d7-499a-ac05-4829e177389a",
   "metadata": {},
   "source": [
    "### Guardamos Valores\n",
    "Guardamos la Temperatura de la Red para los 5 ps"
   ]
  },
  {
   "cell_type": "code",
   "execution_count": null,
   "id": "2e90f1d5-7f19-408c-9fae-653c37980d0a",
   "metadata": {},
   "outputs": [],
   "source": [
    "plt.plot(t[:-1],Ti_evolution)"
   ]
  },
  {
   "cell_type": "code",
   "execution_count": null,
   "id": "089d54ce-4e0c-4fb4-85c7-4983f8d0ffa6",
   "metadata": {},
   "outputs": [],
   "source": [
    "plt.plot(t[:-1],Te_evolution)"
   ]
  },
  {
   "cell_type": "code",
   "execution_count": null,
   "id": "e94746fc-ab4a-4e39-b210-a5ec7ae11190",
   "metadata": {},
   "outputs": [],
   "source": [
    "np.save(f\"Tred_{F/1e4:.1f}J_cm2\",Ti)"
   ]
  },
  {
   "cell_type": "code",
   "execution_count": 18,
   "id": "ea83992a-e4d9-4c26-a2d7-5a9f2e4263c1",
   "metadata": {},
   "outputs": [
    {
     "name": "stdin",
     "output_type": "stream",
     "text": [
      "Once deleted, variables cannot be recovered. Proceed (y/[n])?  y\n"
     ]
    }
   ],
   "source": [
    "%reset"
   ]
  },
  {
   "cell_type": "code",
   "execution_count": null,
   "id": "52e8b2aa-a9c1-44c4-bbf3-19f3986f57ab",
   "metadata": {},
   "outputs": [],
   "source": []
  }
 ],
 "metadata": {
  "kernelspec": {
   "display_name": "Python 3 (ipykernel)",
   "language": "python",
   "name": "python3"
  },
  "language_info": {
   "codemirror_mode": {
    "name": "ipython",
    "version": 3
   },
   "file_extension": ".py",
   "mimetype": "text/x-python",
   "name": "python",
   "nbconvert_exporter": "python",
   "pygments_lexer": "ipython3",
   "version": "3.11.1"
  }
 },
 "nbformat": 4,
 "nbformat_minor": 5
}
