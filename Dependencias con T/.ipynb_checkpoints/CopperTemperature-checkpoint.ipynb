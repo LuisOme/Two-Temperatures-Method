{
 "cells": [
  {
   "cell_type": "code",
   "execution_count": 2,
   "id": "8608b595-0391-4125-8fee-f8a960e57d8b",
   "metadata": {},
   "outputs": [],
   "source": [
    "import numpy as np\n",
    "import matplotlib.pyplot as plt"
   ]
  },
  {
   "cell_type": "code",
   "execution_count": 3,
   "id": "906b1225-fdae-498f-8f6b-561b32c9b079",
   "metadata": {},
   "outputs": [],
   "source": [
    "### VECTOR DE TEMPERATURAS\n",
    "Tes = np.linspace(300,15e4,int((1e5-300)/100)+1)\n",
    "Tis = np.linspace(300,1e4,int((1e5-300)/100)+1)\n",
    "\n",
    "TES,TIS = np.meshgrid(Tes,Tis)\n",
    "### TEMPERATURA DE FERMI\n",
    "Tf = 81600\n",
    "### Temperatura Melting\n",
    "Tm = 1358\n",
    "\n",
    "### MOLES Y NUMERO DE PARTICULAS\n",
    "Na = 6.022e23\n",
    "V = 7.14e-6\n",
    "N = Na / V\n",
    "\n",
    "### CONSTANTE DE BOLTZMANN\n",
    "kb = 1.38e-23 \n",
    "\n",
    "### COEFICIENTE PARA HEAT CAPACITY e-\n",
    "Ce0 = 70.361\n",
    "\n",
    "### Parámetro auxiliar de Heat Capacity\n",
    "Ce_aux = Ce0 * Tf/ np.pi**2 + (3*N*kb/2 - Ce0*Tf/np.pi**2)/(Tf - Tf/np.pi**2) * (\n",
    "Tes - Tf/np.pi**2)\n",
    "\n",
    "### CONSTANTES! PERO PARA COOPER, NO SÉ QUE SON\n",
    "chi = 377 ## W/(m K)\n",
    "eta = 0.139\n",
    "taue = TES/Tf\n",
    "taul = TIS/Tf\n",
    "\n",
    "ke = chi * taue * (taue**2 * 0.16)**1.25 * (taue**2 + 0.44) / (taue**2 + 0.092)**0.5 /(taue**2 + eta*taul)\n",
    "\n",
    "\n",
    "Grt = 5.69e17\n",
    "### VALORES PARA COOPER!!\n",
    "Ae = 1.75e7\n",
    "Bl = 1.98e11\n",
    "\n",
    "G = Grt * (Ae/Bl * (TES + TIS) + 1)"
   ]
  },
  {
   "cell_type": "code",
   "execution_count": 4,
   "id": "16fec13a-fc43-432c-a6e2-b30ef8b2c208",
   "metadata": {},
   "outputs": [
    {
     "data": {
      "text/plain": [
       "1163915.9663865548"
      ]
     },
     "execution_count": 4,
     "metadata": {},
     "output_type": "execute_result"
    }
   ],
   "source": [
    "N*kb"
   ]
  },
  {
   "cell_type": "code",
   "execution_count": 5,
   "id": "06fa6933-c03d-4e45-a60d-779fa9c1682e",
   "metadata": {},
   "outputs": [
    {
     "data": {
      "text/plain": [
       "1163462.559728592"
      ]
     },
     "execution_count": 5,
     "metadata": {},
     "output_type": "execute_result"
    }
   ],
   "source": [
    "2*Ce0 * 3* Tf/np.pi**2/3"
   ]
  },
  {
   "cell_type": "code",
   "execution_count": 16,
   "id": "87952cf3-2c98-4f6d-b5d6-d93439da7005",
   "metadata": {},
   "outputs": [],
   "source": [
    "Ce = []\n",
    "for index,T in enumerate(Tes):\n",
    "    if (T < Tf/np.pi**2):\n",
    "        Ce.append(Ce0*T)\n",
    "    elif (Tf/np.pi**2 < T < 3*Tf/np.pi**2):\n",
    "        Ce.append(Ce0*Tf/np.pi**2 + (N*kb - Ce0*Tf/np.pi**2)/(2*Tf/np.pi**2)*(T-Tf/np.pi**2)) \n",
    "    elif (3*Tf/np.pi**2 < T < Tf):\n",
    "        Ce.append(N*kb + (N*kb/2)/(Tf-3*Tf/np.pi**2) * (T-3*Tf/np.pi**2))\n",
    "    else:\n",
    "        Ce.append(3 * N * kb / 2)\n",
    "        \n",
    "        \n",
    "Ci = []\n",
    "\n",
    "for index,T in enumerate(Tis):\n",
    "    if T < Tm:\n",
    "        Ci.append(313.7 + 0.324*T - 2.687e-4 * T**2 + 1.257e-7*T**3)\n",
    "    else:\n",
    "        Ci.append(510.1)\n"
   ]
  },
  {
   "cell_type": "code",
   "execution_count": 22,
   "id": "57ce5c6c-eeab-405f-8d4a-76e1f0d480cb",
   "metadata": {},
   "outputs": [
    {
     "data": {
      "text/plain": [
       "[<matplotlib.lines.Line2D at 0x268131133d0>]"
      ]
     },
     "execution_count": 22,
     "metadata": {},
     "output_type": "execute_result"
    },
    {
     "data": {
      "image/png": "[encoded data removed]",
      "text/plain": [
       "<Figure size 640x480 with 1 Axes>"
      ]
     },
     "metadata": {},
     "output_type": "display_data"
    }
   ],
   "source": [
    "plt.plot(Tes,Ce)"
   ]
  },
  {
   "cell_type": "code",
   "execution_count": 89,
   "id": "3868b449-e32d-4ff4-9ec8-740e247bdfa4",
   "metadata": {},
   "outputs": [
    {
     "data": {
      "text/plain": [
       "37837.612838515546"
      ]
     },
     "execution_count": 89,
     "metadata": {},
     "output_type": "execute_result"
    }
   ],
   "source": [
    "Tes[250]"
   ]
  },
  {
   "cell_type": "code",
   "execution_count": 87,
   "id": "23ecd732-0835-49fd-8ee9-d57ce6db465c",
   "metadata": {},
   "outputs": [
    {
     "data": {
      "text/plain": [
       "39515.26162051173"
      ]
     },
     "execution_count": 87,
     "metadata": {},
     "output_type": "execute_result"
    }
   ],
   "source": [
    "3*Tf/np.pi**2"
   ]
  },
  {
   "cell_type": "code",
   "execution_count": null,
   "id": "bdc6af62-066b-4b07-815f-5c46c21a2c4c",
   "metadata": {},
   "outputs": [],
   "source": []
  }
 ],
 "metadata": {
  "kernelspec": {
   "display_name": "Python 3 (ipykernel)",
   "language": "python",
   "name": "python3"
  },
  "language_info": {
   "codemirror_mode": {
    "name": "ipython",
    "version": 3
   },
   "file_extension": ".py",
   "mimetype": "text/x-python",
   "name": "python",
   "nbconvert_exporter": "python",
   "pygments_lexer": "ipython3",
   "version": "3.11.1"
  }
 },
 "nbformat": 4,
 "nbformat_minor": 5
}
